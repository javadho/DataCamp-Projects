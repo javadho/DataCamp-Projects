{
 "cells": [
  {
   "cell_type": "markdown",
   "id": "41e0a2ff-b13d-436f-a7fb-cb4a03719e2d",
   "metadata": {},
   "source": [
    "# Cleaning a PostgreSQL Database\n",
    "\n",
    "In this project, you will work with data from a hypothetical Super Store to challenge and enhance your SQL skills in data cleaning. This project will engage you in identifying top categories based on the highest profit margins and detecting missing values, utilizing your comprehensive knowledge of SQL concepts.\n",
    "\n",
    "## Data Dictionary:\n",
    "\n",
    "### `orders`:\n",
    "| Column       | Definition                              | Data type         | Comments                                          |\n",
    "|--------------|-----------------------------------------|-------------------|---------------------------------------------------|\n",
    "| `row_id`     | Unique Record ID                        | `INTEGER`         |                                                   |\n",
    "| `order_id`   | Identifier for each order in table     | `TEXT`            | Connects to `order_id` in `returned_orders` table |\n",
    "| `order_date` | Date when order was placed              | `TEXT`            |                                                   |\n",
    "| `market`     | Market order_id belongs to             | `TEXT`            |                                                   |\n",
    "| `region`     | Region Customer belongs to              | `TEXT`            | Connects to `region` in `people` table            |\n",
    "| `product_id` | Identifier of Product bought           | `TEXT`            | Connects to `product_id` in `products` table      |\n",
    "| `sales`      | Total Sales Amount for the Line Item   | `DOUBLE PRECISION`|                                                   |\n",
    "| `quantity`   | Total Quantity for the Line Item       | `DOUBLE PRECISION`|                                                   |\n",
    "| `discount`   | Discount applied for the Line Item     | `DOUBLE PRECISION`|                                                   |\n",
    "| `profit`     | Total Profit earned on the Line Item   | `DOUBLE PRECISION`|                                                   |\n",
    "\n",
    "\n",
    "### `returned_orders`:\n",
    "| Column | Definition | Data type |\n",
    "|--------|------------|-----------|\n",
    "| `returned`| Yes values for Order / Line Item Returned | `TEXT` |\n",
    "| `order_id` | Identifier for each order in table | `TEXT` |\n",
    "| `market` | Market order_id belongs to | `TEXT` |\n",
    "\n",
    "### `people`:\n",
    "| Column | Definition | Data type |\n",
    "|--------|------------|-----------|\n",
    "| `person`| Name of Salesperson credited with Order | `TEXT` |\n",
    "| `region` | Region Salesperson in operating in | `TEXT` |\n",
    "\n",
    "### `products`:\n",
    "| Column | Definition | Data type |\n",
    "|--------|------------|-----------|\n",
    "| `product_id`| Unique Identifier for the Product | `TEXT` |\n",
    "| `category` | Category Product belongs to | `TEXT` |\n",
    "| `sub_category` | Sub Category Product belongs to | `TEXT` |\n",
    "| `product_name` | Detailed Name of the Product | `TEXT` |\n",
    "\n",
    "As you can see in the Data Dictionary above, date fields have been written to the `orders` table as `TEXT` and numeric fields like sales, profit, etc. have been written to the `orders` table as `Double Precision`. You will need to take care of these types in some of the queries. This project is an excellent opportunity to apply your SQL skills in a practical setting and gain valuable experience in data cleaning and analysis."
   ]
  },
  {
   "cell_type": "markdown",
   "id": "74e42d40-c9c5-4d08-8652-699fd33d2159",
   "metadata": {},
   "source": [
    "# Find the top 5 products from each category based on highest total sales."
   ]
  },
  {
   "cell_type": "markdown",
   "id": "ac93f3c2-21fb-42c3-b3db-02e14ffa2cf1",
   "metadata": {},
   "source": [
    "The output should be sorted by category in ascending order and by sales in descending order within each category, i.e. within each category product with highest margin should sit on the top. Save the query as **top_five_products_each_category**."
   ]
  },
  {
   "cell_type": "code",
   "execution_count": null,
   "id": "199bafad-0be1-4cf1-9f83-2357dcc2a3c0",
   "metadata": {},
   "outputs": [],
   "source": [
    "%%sql\n",
    "\n",
    "WITH rank AS (\n",
    "    SELECT\n",
    "        p.category,\n",
    "        p.product_name,\n",
    "        ROUND(CAST(SUM(o.sales) AS NUMERIC), 2) AS product_total_sales,\n",
    "        ROUND(CAST(SUM(o.profit) AS NUMERIC), 2) AS product_total_profit,\n",
    "        RANK() OVER (PARTITION BY p.category ORDER BY SUM(o.sales) DESC) AS product_rank\n",
    "    FROM public.products AS p\n",
    "    JOIN public.orders AS o\n",
    "    ON p.product_id = o.product_id\n",
    "    GROUP BY p.product_name, p.category\n",
    ")\n",
    "SELECT *\n",
    "FROM rank\n",
    "WHERE product_rank <= 5\n",
    "ORDER BY category, product_total_sales DESC"
   ]
  },
  {
   "cell_type": "markdown",
   "id": "65595461-7998-4fe4-bf34-69b0358f8797",
   "metadata": {},
   "source": [
    "**top_five_products_each_category**\n",
    "| index | category        | product_name                                    | product_total_sales | product_total_profit | product_rank |\n",
    "|-------|-----------------|-------------------------------------------------|---------------------|----------------------|--------------|\n",
    "| 0     | Furniture       | Hon Executive Leather Armchair, Adjustable      | 58193.48            | 5997.25              | 1            |\n",
    "| 1     | Furniture       | Office Star Executive Leather Armchair, Adjustable | 51449.8            | 4925.8               | 2            |\n",
    "| 2     | Furniture       | Harbour Creations Executive Leather Armchair, Adjustable | 50121.52         | 10427.33             | 3            |\n",
    "| 3     | Furniture       | SAFCO Executive Leather Armchair, Black         | 41923.53            | 7154.28              | 4            |\n",
    "| 4     | Furniture       | Novimex Executive Leather Armchair, Adjustable  | 40585.13            | 5562.35              | 5            |\n",
    "| 5     | Office Supplies | Eldon File Cart, Single Width                   | 39873.23            | 5571.26              | 1            |\n",
    "| 6     | Office Supplies | Hoover Stove, White                             | 32842.6             | -2180.63             | 2            |\n",
    "| 7     | Office Supplies | Hoover Stove, Red                               | 32644.13            | 11651.68             | 3            |\n",
    "| 8     | Office Supplies | Rogers File Cart, Single Width                  | 29558.82            | 2368.82              | 4            |\n",
    "| 9     | Office Supplies | Smead Lockers, Industrial                       | 28991.66            | 3630.44              | 5            |\n",
    "| 10    | Technology      | Apple Smart Phone, Full Size                    | 86935.78            | 5921.58              | 1            |\n",
    "| 11    | Technology      | Cisco Smart Phone, Full Size                    | 76441.53            | 17238.52             | 2            |\n",
    "| 12    | Technology      | Motorola Smart Phone, Full Size                 | 73156.3             | 17027.11             | 3            |\n",
    "| 13    | Technology      | Nokia Smart Phone, Full Size                    | 71904.56            | 9938.2               | 4            |\n",
    "| 14    | Technology      | Canon imageCLASS 2200 Advanced Copier           | 61599.82            | 25199.93             | 5            |\n"
   ]
  }
 ],
 "metadata": {
  "kernelspec": {
   "display_name": "Python 3 (ipykernel)",
   "language": "python",
   "name": "python3"
  },
  "language_info": {
   "codemirror_mode": {
    "name": "ipython",
    "version": 3
   },
   "file_extension": ".py",
   "mimetype": "text/x-python",
   "name": "python",
   "nbconvert_exporter": "python",
   "pygments_lexer": "ipython3",
   "version": "3.12.7"
  }
 },
 "nbformat": 4,
 "nbformat_minor": 5
}
