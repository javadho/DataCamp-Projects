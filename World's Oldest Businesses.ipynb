{
 "cells": [
  {
   "cell_type": "markdown",
   "id": "7edebf5a-5f3c-4b9c-af3e-fd5d47798e85",
   "metadata": {},
   "source": [
    "Staffelter Hof Winery is Germany's oldest business, established in 862 under the Carolingian dynasty. It has continued to serve customers through dramatic changes in Europe, such as the Holy Roman Empire, the Ottoman Empire, and both world wars. What characteristics enable a business to stand the test of time?\n",
    "\n",
    "To help answer this question, BusinessFinancing.co.uk researched the oldest company still in business in **almost** every country and compiled the results into several CSV files. This dataset has been cleaned.\n",
    "\n",
    "Having useful information in different files is a common problem. While it's better to keep different types of data separate for data storage, you'll want all the data in one place for analysis. You'll use joining and data manipulation to work with this data and better understand the world's oldest businesses.\n",
    "\n",
    "`businesses` and `new_businesses`\n",
    "\n",
    "|Column|Description|\n",
    "|------|-----------|\n",
    "|`business`|Name of the business (varchar)|\n",
    "|`year_founded`|Year the business was founded (int)|\n",
    "|`category_code`|Code for the business category (varchar)|\n",
    "|`country_code`|ISO 3166-1 three-letter country code (char)|\n",
    "---\n",
    "`countries`\n",
    "\n",
    "|Column|Description|\n",
    "|------|-----------|\n",
    "|`country_code`|ISO 3166-1 three-letter country code (varchar)|\n",
    "|`country`|Name of the country (varchar)|\n",
    "|`continent`|Name of the continent the country exists in (varchar)|\n",
    "---\n",
    "`categories`\n",
    "|Column|Description|\n",
    "|------|-----------|\n",
    "|`category_code`|Code for the business category (varchar)|\n",
    "|`category`|Description of the business category (varchar)|"
   ]
  },
  {
   "cell_type": "markdown",
   "id": "15525984-4d64-473c-8b13-03650da0d1bd",
   "metadata": {},
   "source": [
    "# 1. What is the oldest business on each continent? "
   ]
  },
  {
   "cell_type": "code",
   "execution_count": null,
   "id": "6963c291-1b2e-4c23-8287-f13673536338",
   "metadata": {},
   "outputs": [],
   "source": [
    "%%sql\n",
    "    \n",
    "WITH a AS (SELECT c1.continent,\n",
    "\t   c1.country,\n",
    "\t   b.business,\n",
    "\t   b.year_founded\n",
    "FROM public.businesses AS b\n",
    "LEFT JOIN public.countries AS c1\n",
    "ON b.country_code = c1.country_code),\n",
    "\n",
    "y AS (SELECT c1.continent, MIN(b.year_founded) AS year_founded\n",
    "FROM public.businesses AS b\n",
    "LEFT JOIN public.countries AS c1\n",
    "ON b.country_code = c1.country_code\n",
    "GROUP BY c1.continent)\n",
    "\n",
    "SELECT y.continent, a.country, a.business, y.year_founded\n",
    "FROM a\n",
    "JOIN y\n",
    "ON a.continent=y.continent AND a.year_founded=y.year_founded"
   ]
  },
  {
   "cell_type": "markdown",
   "id": "979b16af-7f7e-4fc8-b176-a1587b12ac1c",
   "metadata": {},
   "source": [
    "**oldest_business_continent**\n",
    "| index | continent      | country       | business                          | year_founded |\n",
    "|-------|----------------|---------------|-----------------------------------|--------------|\n",
    "| 0     | Oceania        | Australia     | Australia Post                    | 1809         |\n",
    "| 1     | Europe         | Austria       | St. Peter Stifts Kulinarium       | 803          |\n",
    "| 2     | Asia           | Japan         | Kongō Gumi                        | 578          |\n",
    "| 3     | North America  | Mexico        | La Casa de Moneda de México       | 1534         |\n",
    "| 4     | Africa         | Mauritius     | Mauritius Post                    | 1772         |\n",
    "| 5     | South America  | Peru          | Casa Nacional de Moneda           | 1565         |\n"
   ]
  },
  {
   "cell_type": "markdown",
   "id": "d9465698-daed-4e01-887a-d960b5bd3593",
   "metadata": {},
   "source": [
    "# 2. How many countries per continent lack data on the oldest businesses?"
   ]
  },
  {
   "cell_type": "markdown",
   "id": "c39ac256-40af-464e-957c-25938beef9be",
   "metadata": {},
   "source": [
    "Count the number of countries per continent missing business data, including new_businesses."
   ]
  },
  {
   "cell_type": "code",
   "execution_count": null,
   "id": "f16c855f-bb14-48f0-978d-3b27640a8597",
   "metadata": {},
   "outputs": [],
   "source": [
    "%%sql\n",
    "\n",
    "WITH a AS (SELECT c1.continent,\n",
    "\t   c1.country,\n",
    "\t   b.business,\n",
    "\t   b.year_founded\n",
    "FROM public.businesses AS b\n",
    "LEFT JOIN public.countries AS c1\n",
    "ON b.country_code = c1.country_code),\n",
    "\n",
    "y AS (SELECT c1.continent, MIN(b.year_founded) AS year_founded\n",
    "FROM public.businesses AS b\n",
    "LEFT JOIN public.countries AS c1\n",
    "ON b.country_code = c1.country_code\n",
    "GROUP BY c1.continent)\n",
    "\n",
    "SELECT y.continent, a.country, a.business, y.year_founded\n",
    "FROM a\n",
    "JOIN y\n",
    "ON a.continent=y.continent AND a.year_founded=y.year_founded"
   ]
  },
  {
   "cell_type": "markdown",
   "id": "c4593da1-d157-41fe-ac86-0fd071d14bd5",
   "metadata": {},
   "source": [
    "**oldest_business_continent**\n",
    "| index | continent      | country       | business                          | year_founded |\n",
    "|-------|----------------|---------------|-----------------------------------|--------------|\n",
    "| 0     | Oceania        | Australia     | Australia Post                    | 1809         |\n",
    "| 1     | Europe         | Austria       | St. Peter Stifts Kulinarium       | 803          |\n",
    "| 2     | Asia           | Japan         | Kongō Gumi                        | 578          |\n",
    "| 3     | North America  | Mexico        | La Casa de Moneda de México       | 1534         |\n",
    "| 4     | Africa         | Mauritius     | Mauritius Post                    | 1772         |\n",
    "| 5     | South America  | Peru          | Casa Nacional de Moneda           | 1565         |\n"
   ]
  },
  {
   "cell_type": "markdown",
   "id": "e86986a9-7e73-4c0f-b71a-34fa7af62eec",
   "metadata": {},
   "source": [
    "# 3. Which business categories are best suited to last many years, and on what continent are they"
   ]
  },
  {
   "cell_type": "code",
   "execution_count": null,
   "id": "ed9668c4-c562-4a57-83c9-994cf886d1c4",
   "metadata": {},
   "outputs": [],
   "source": [
    "%%sql\n",
    "\n",
    "SELECT c.continent, cat.category, MIN(b.year_founded) AS year_founded\n",
    "FROM businesses b\n",
    "INNER JOIN categories cat ON b.category_code = cat.category_code\n",
    "INNER JOIN countries c ON b.country_code = c.country_code\n",
    "GROUP BY c.continent, cat.category\n",
    "ORDER BY c.continent, cat.category;"
   ]
  },
  {
   "cell_type": "markdown",
   "id": "e03f691e-ce5b-4de5-8104-f454109e828f",
   "metadata": {},
   "source": [
    "**oldest_by_continent_category**\n",
    "\n",
    "| index | continent      | category                           | year_founded |\n",
    "|-------|----------------|------------------------------------|--------------|\n",
    "| 0     | Africa         | Agriculture                        | 1947         |\n",
    "| 1     | Africa         | Aviation & Transport               | 1854         |\n",
    "| 2     | Africa         | Banking & Finance                  | 1892         |\n",
    "| 3     | Africa         | Distillers, Vintners, & Breweries  | 1933         |\n",
    "| 4     | Africa         | Energy                             | 1968         |\n",
    "| 5     | Africa         | Food & Beverages                   | 1878         |\n",
    "| 6     | Africa         | Manufacturing & Production         | 1820         |\n",
    "| 7     | Africa         | Media                              | 1943         |\n",
    "| 8     | Africa         | Mining                             | 1962         |\n",
    "| 9     | Africa         | Postal Service                     | 1772         |\n",
    "| 10    | Asia           | Agriculture                        | 1930         |\n",
    "| 11    | Asia           | Aviation & Transport               | 1858         |\n",
    "| 12    | Asia           | Banking & Finance                  | 1830         |\n",
    "| 13    | Asia           | Cafés, Restaurants & Bars          | 1153         |\n",
    "| 14    | Asia           | Conglomerate                       | 1841         |\n",
    "| 15    | Asia           | Construction                       | 578          |\n",
    "| 16    | Asia           | Defense                            | 1808         |\n",
    "| 17    | Asia           | Distillers, Vintners, & Breweries  | 1853         |\n",
    "| 18    | Asia           | Energy                             | 1928         |\n",
    "| 19    | Asia           | Food & Beverages                   | 1820         |\n",
    "| 20    | Asia           | Manufacturing & Production         | 1736         |\n",
    "| 21    | Asia           | Media                              | 1931         |\n",
    "| 22    | Asia           | Mining                             | 1913         |\n",
    "| 23    | Asia           | Postal Service                     | 1800         |\n",
    "| 24    | Asia           | Retail                             | 1883         |\n",
    "| 25    | Asia           | Telecommunications                 | 1885         |\n",
    "| 26    | Asia           | Tourism & Hotels                   | 1584         |\n",
    "| 27    | Europe         | Agriculture                        | 1218         |\n",
    "| 28    | Europe         | Banking & Finance                  | 1606         |\n",
    "| 29    | Europe         | Cafés, Restaurants & Bars          | 803          |\n",
    "| 30    | Europe         | Consumer Goods                     | 1649         |\n",
    "| 31    | Europe         | Defense                            | 1878         |\n",
    "| 32    | Europe         | Distillers, Vintners, & Breweries  | 862          |\n",
    "| 33    | Europe         | Manufacturing & Production         | 864          |\n",
    "| 34    | Europe         | Media                              | 1999         |\n",
    "| 35    | Europe         | Medical                            | 1422         |\n",
    "| 36    | Europe         | Mining                             | 1248         |\n",
    "| 37    | Europe         | Postal Service                     | 1520         |\n",
    "| 38    | Europe         | Telecommunications                 | 1912         |\n",
    "| 39    | Europe         | Tourism & Hotels                   | 1230         |\n",
    "| 40    | North America  | Agriculture                        | 1638         |\n",
    "| 41    | North America  | Aviation & Transport               | 1870         |\n",
    "| 42    | North America  | Banking & Finance                  | 1891         |\n",
    "| 43    | North America  | Distillers, Vintners, & Breweries  | 1703         |\n",
    "| 44    | North America  | Food & Beverages                   | 1920         |\n",
    "| 45    | North America  | Manufacturing & Production         | 1534         |\n",
    "| 46    | North America  | Media                              | 1909         |\n",
    "| 47    | North America  | Retail                             | 1670         |\n",
    "| 48    | North America  | Tourism & Hotels                   | 1770         |\n",
    "| 49    | Oceania        | Banking & Finance                  | 1861         |\n",
    "| 50    | Oceania        | Postal Service                     | 1809         |\n",
    "| 51    | South America  | Banking & Finance                  | 1565         |\n",
    "| 52    | South America  | Cafés, Restaurants & Bars          | 1877         |\n",
    "| 53    | South America  | Defense                            | 1811         |\n",
    "| 54    | South America  | Food & Beverages                   | 1660         |\n",
    "| 55    | South America  | Manufacturing & Production         | 1621         |\n"
   ]
  }
 ],
 "metadata": {
  "kernelspec": {
   "display_name": "Python 3 (ipykernel)",
   "language": "python",
   "name": "python3"
  },
  "language_info": {
   "codemirror_mode": {
    "name": "ipython",
    "version": 3
   },
   "file_extension": ".py",
   "mimetype": "text/x-python",
   "name": "python",
   "nbconvert_exporter": "python",
   "pygments_lexer": "ipython3",
   "version": "3.12.7"
  }
 },
 "nbformat": 4,
 "nbformat_minor": 5
}
