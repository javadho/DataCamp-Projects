{
 "cells": [
  {
   "cell_type": "markdown",
   "id": "7577927d-6776-49cc-9748-8a07badb26f6",
   "metadata": {},
   "source": [
    "# Impact Analysis of GoodThought NGO Initiatives\n",
    "\n",
    "GoodThought NGO has been a catalyst for positive change, focusing its efforts on education, healthcare, and sustainable development to make a significant difference in communities worldwide. With this mission, GoodThought has orchestrated an array of assignments aimed at uplifting underprivileged populations and fostering long-term growth.\n",
    "\n",
    "This project offers a hands-on opportunity to explore how data-driven insights can direct and enhance these humanitarian efforts. In this project, you'll engage with the GoodThought PostgreSQL database, which encapsulates detailed records of assignments, funding, impacts, and donor activities from 2010 to 2023. This comprehensive dataset includes:\n",
    "\n",
    "- **`Assignments`**: Details about each project, including its name, duration (start and end dates), budget, geographical region, and the impact score.\n",
    "- **`Donations`**: Records of financial contributions, linked to specific donors and assignments, highlighting how financial support is allocated and utilized.\n",
    "- **`Donors`**: Information on individuals and organizations that fund GoodThought’s projects, including donor types.\n",
    "\n",
    "Refer to the below ERD diagram for a visual representation of the relationships between these data tables:\n",
    "\n",
    "![image description](https://raw.githubusercontent.com/javadho/DataCamp-Projects/main/GoodThought%20NGO/schema.png)\n",
    "\n",
    "You will execute SQL queries to answer two questions, as listed in the instructions. Good luck!\n"
   ]
  },
  {
   "cell_type": "markdown",
   "id": "c88decb5-8a83-4bf6-9315-1e05a9fdba65",
   "metadata": {},
   "source": [
    "# List the top five assignments based on total value of donations, categorized by donor type. "
   ]
  },
  {
   "cell_type": "code",
   "execution_count": null,
   "id": "b87264fa-230b-41ac-adf3-245e7bba4759",
   "metadata": {},
   "outputs": [],
   "source": [
    "%%sql\n",
    "    \n",
    "WITH cte AS (\n",
    "\tSELECT assignment_id, donor_type, ROUND(SUM(amount), 2) AS rounded_total_donation_amount\n",
    "\tFROM donations\n",
    "\tINNER JOIN donors\n",
    "\tUSING(donor_id)\n",
    "\tGROUP BY assignment_id, donor_type)\n",
    "SELECT assignment_name, region, rounded_total_donation_amount, donor_type\n",
    "FROM assignments\n",
    "INNER JOIN cte\n",
    "USING(assignment_id)\n",
    "ORDER BY rounded_total_donation_amount DESC\n",
    "LIMIT 5;"
   ]
  },
  {
   "cell_type": "markdown",
   "id": "e84ef17e-0ef7-4ed2-9f93-79cae138ba2f",
   "metadata": {},
   "source": [
    "**highest_donation_assignments**\n",
    "| index | assignment_name  | region | rounded_total_donation_amount | donor_type   |\n",
    "|-------|-----------------|--------|--------------------------------|--------------|\n",
    "| 0     | Assignment_3033 | East   | 3840.66                        | Individual   |\n",
    "| 1     | Assignment_300  | West   | 3133.98                        | Organization |\n",
    "| 2     | Assignment_4114 | North  | 2778.57                        | Organization |\n",
    "| 3     | Assignment_1765 | West   | 2626.98                        | Organization |\n",
    "| 4     | Assignment_268  | East   | 2488.69                        | Individual   |\n"
   ]
  },
  {
   "cell_type": "markdown",
   "id": "e68ee649-e9c0-4bab-a909-353a8f45b0ce",
   "metadata": {},
   "source": [
    "# Identify the assignment with the highest impact score in each region"
   ]
  },
  {
   "cell_type": "markdown",
   "id": "a98effb2-582a-4cc4-bb44-a47f811275a8",
   "metadata": {},
   "source": [
    "Make sure that each listed assignment has received at least one donation. "
   ]
  },
  {
   "cell_type": "code",
   "execution_count": null,
   "id": "8ef3d907-3d8a-413f-8a00-e22d835e15f4",
   "metadata": {},
   "outputs": [],
   "source": [
    "%%sql\n",
    "\n",
    "WITH cte2 AS(\n",
    "\tSELECT assignment_id, COUNT(donation_id) AS num_total_donations\n",
    "\tFROM donations\n",
    "\tGROUP BY assignment_id),\n",
    "\tcte3 AS(\n",
    "\tSELECT a.assignment_name, a.region, a.impact_score, dc.num_total_donations, \n",
    "    ROW_NUMBER() OVER(PARTITION BY a.region ORDER BY a.impact_score DESC) AS rank\n",
    "\tFROM assignments AS a\n",
    "\tINNER JOIN cte2 AS dc\n",
    "\tUSING(assignment_id))\n",
    "\n",
    "SELECT assignment_name, region, impact_score, num_total_donations\n",
    "FROM cte3\n",
    "WHERE rank = 1\n",
    "ORDER BY region;"
   ]
  },
  {
   "attachments": {},
   "cell_type": "markdown",
   "id": "c4d945e8-7331-45f1-bae1-9a4805546fb1",
   "metadata": {},
   "source": [
    "**top_regional_impact_assignments**\n",
    "\n",
    "| index | assignment_name  | region | impact_score | num_total_donations |\n",
    "|-------|-----------------|--------|--------------|---------------------|\n",
    "| 0     | Assignment_316  | East   | 10.00        | 2                   |\n",
    "| 1     | Assignment_2253 | North  | 9.99         | 1                   |\n",
    "| 2     | Assignment_3547 | South  | 10.00        | 1                   |\n",
    "| 3     | Assignment_2794 | West   | 9.99         | 2                   |"
   ]
  }
 ],
 "metadata": {
  "kernelspec": {
   "display_name": "Python 3 (ipykernel)",
   "language": "python",
   "name": "python3"
  },
  "language_info": {
   "codemirror_mode": {
    "name": "ipython",
    "version": 3
   },
   "file_extension": ".py",
   "mimetype": "text/x-python",
   "name": "python",
   "nbconvert_exporter": "python",
   "pygments_lexer": "ipython3",
   "version": "3.12.7"
  }
 },
 "nbformat": 4,
 "nbformat_minor": 5
}
